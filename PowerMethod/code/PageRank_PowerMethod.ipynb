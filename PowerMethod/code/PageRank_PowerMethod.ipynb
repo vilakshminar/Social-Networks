{
 "metadata": {
  "name": "",
  "signature": "sha256:871d7724724ff1a5c84f3b88d12ea98c6865ee255b485c8201c838f95361a9d4"
 },
 "nbformat": 3,
 "nbformat_minor": 0,
 "worksheets": [
  {
   "cells": [
    {
     "cell_type": "code",
     "collapsed": false,
     "input": [
      "import csv\n",
      "from collections import Counter\n",
      "from collections import OrderedDict\n",
      "\n",
      "srcDir = 'C:\\\\Stuffs\\\\Courses\\\\SocialNetworks\\\\FinalProject'\n",
      "myName = 'Ashwin Giridharan'\n",
      "inputFriendsGraph = '\\\\mutualfriends.csv'\n",
      "alpha = 0.65\n",
      "tolerance = 1.0/10000000000.0\n"
     ],
     "language": "python",
     "metadata": {},
     "outputs": [],
     "prompt_number": 2
    },
    {
     "cell_type": "code",
     "collapsed": false,
     "input": [
      "\n",
      "nameToNumMap = {}\n",
      "numToNameMap = {}\n",
      "\n",
      "# method to read connection edges from csv file\n",
      "def readFriendsData():\n",
      "    numIndex = 0\n",
      "    edgesList = []\n",
      "    with open(srcDir + inputFriendsGraph) as csvfile:\n",
      "        reader = csv.reader(csvfile, delimiter=',')\n",
      "        for line in reader:\n",
      "            if line[0] not in nameToNumMap:\n",
      "                nameToNumMap[line[0]] = numIndex\n",
      "                numToNameMap[numIndex] = line[0]\n",
      "                numIndex += 1\n",
      "            if line[1] not in nameToNumMap:\n",
      "                nameToNumMap[line[1]] = numIndex\n",
      "                numToNameMap[numIndex] = line[1]\n",
      "                numIndex += 1\n",
      "            if [nameToNumMap[line[0]], nameToNumMap[line[1]]] not in edgesList:\n",
      "                edgesList.append([nameToNumMap[line[0]], nameToNumMap[line[1]]])\n",
      "    print('Total Friends',numIndex)\n",
      "#     print('My Index',nameToNumMap['Muthurani MI Ashwin'])\n",
      "    return edgesList,numIndex\n",
      " \n",
      "# Method to rank connections based on Pagerank power method    \n",
      "def findImpContactsUsingPowerMethod(edgesList, numIndex, alpha, tolerance):\n",
      "    # Creating zeros array of NxN\n",
      "    adjMatrix = numpy.zeros(shape=(numIndex,numIndex))\n",
      "    \n",
      "    # Populating the edges with 1\n",
      "    for edge in edgesList:\n",
      "        adjMatrix[edge[0]][edge[1]] = 1\n",
      "        adjMatrix[edge[1]][edge[0]] = 1\n",
      "        \n",
      "    # Converting matrix to probability / stochastic matrix\n",
      "    for i in xrange(0,numIndex):\n",
      "        edgesCount = Counter(adjMatrix[i])[1.0]\n",
      "        if edgesCount ==0:\n",
      "            # Skipping handling of zero row as it will not be present\n",
      "            print('No zero row should be present in Mutual friends data')\n",
      "        adjMatrix[i] = adjMatrix[i] / edgesCount\n",
      "#     print('Friend vector before dangle handle',adjMatrix[122])\n",
      "    \n",
      "    # Handling dangling nodes by giving them minimum probability\n",
      "    minProbArray = numpy.ones(shape=(numIndex,numIndex))\n",
      "    minProbArray = minProbArray / numIndex\n",
      "    adjMatrix = (alpha * adjMatrix) + ((1-alpha)*minProbArray)\n",
      "#     print('Friend vector after dangle handle',adjMatrix[122])\n",
      "\n",
      "    # Power Method\n",
      "    initialVector = numpy.ones(shape=(1,numIndex))\n",
      "    initialVector = initialVector / numIndex\n",
      "    \n",
      "    stationaryVector = initialVector\n",
      "    \n",
      "    expToleranceArray = np.ones(shape=(1,numIndex), dtype=bool)\n",
      "    \n",
      "    for i in xrange(0,1000):\n",
      "        prevStationaryVector = stationaryVector\n",
      "        stationaryVector = numpy.dot(stationaryVector, adjMatrix)\n",
      "        toleranceVector = stationaryVector - prevStationaryVector\n",
      "        currToleranceArray = (toleranceVector < tolerance)\n",
      "        # Break the loop if tolerance is met\n",
      "        if numpy.array_equal(currToleranceArray,expToleranceArray):\n",
      "            print('Tolerance in iteration ',i,'for alpha', alpha,' and tolerance ',tolerance)\n",
      "            break\n",
      "        \n",
      "    contactsWeightMap = {}\n",
      "    for i in xrange(0,numIndex):\n",
      "        contactsWeightMap[numToNameMap[i]] = stationaryVector[0][i]\n",
      "    return OrderedDict(sorted(contactsWeightMap.items(), key=lambda x: x[1], reverse=True))\n",
      "\n",
      "# Method to rank connections using in-degree or number of mutual friends\n",
      "def findImpContactsUsingDegree(edgesList, numIndex):\n",
      "    friendsMutualDegreeMap = {}\n",
      "    with open(srcDir + '\\\\mutualfriends.csv') as csvfile:\n",
      "        reader = csv.reader(csvfile, delimiter=',')\n",
      "        for line in reader:\n",
      "            if line[0] != myName:\n",
      "                if line[0] not in friendsMutualDegreeMap:\n",
      "                    friendsMutualDegreeMap[line[0]] = 1\n",
      "                else:\n",
      "                    friendsMutualDegreeMap[line[0]] = friendsMutualDegreeMap[line[0]] + 1\n",
      "            if line[1] != myName:\n",
      "                if line[1] not in friendsMutualDegreeMap:\n",
      "                    friendsMutualDegreeMap[line[1]] = 1\n",
      "                else:\n",
      "                    friendsMutualDegreeMap[line[1]] = friendsMutualDegreeMap[line[1]] + 1\n",
      "    return OrderedDict(sorted(friendsMutualDegreeMap.items(), key=lambda x: x[1], reverse=True))           \n",
      "      \n",
      "# Output ranking comparison of Power Method and in-degree to result file    \n",
      "def generateRankCompData(impContactsWeightMapPower, impContactsWeightMapDegree, alpha, tolerance):\n",
      "    powerRankMap = {}\n",
      "    degreeRankMap = {}\n",
      "    rankCompList = []\n",
      "    i = 1\n",
      "    for key in impContactsWeightMapPower:\n",
      "        if key != myName:\n",
      "            powerRankMap[key] = i\n",
      "            i += 1\n",
      "    i = 1\n",
      "    for key in impContactsWeightMapDegree:\n",
      "        if key != myName:\n",
      "            degreeRankMap[key] = i\n",
      "            i += 1\n",
      "#     print(powerRankMap)\n",
      "#     print(degreeRankMap) \n",
      "\n",
      "    powerRankSortedMap = OrderedDict(sorted(powerRankMap.items(), key=lambda x: x[1]))\n",
      "#     print(powerRankMap)\n",
      "    \n",
      "    rankCompList.append(['Name','PowerRank','DegreeRank','PowerScore','DegreeCount'])\n",
      "    for key in powerRankSortedMap:\n",
      "        rankCompList.append([key,powerRankMap[key],degreeRankMap[key],impContactsWeightMapPower[key],impContactsWeightMapDegree[key]])\n",
      "    \n",
      "    \n",
      "    outFile = \"rankComp\"+str(int(alpha*100.0))+\"_\"+str(tolerance)+\".csv\"\n",
      "    print(outFile)\n",
      "    with open(srcDir + \"\\\\\"+outFile, \"wb\") as f:\n",
      "        writer = csv.writer(f)\n",
      "        writer.writerows(rankCompList)\n",
      "        \n",
      "    \n",
      "                \n",
      "        \n",
      "    \n",
      "            \n",
      "edgesList, numIndex = readFriendsData()\n",
      "impContactsWeightMapPower = findImpContactsUsingPowerMethod(edgesList, numIndex, alpha, tolerance)\n",
      "impContactsWeightMapDegree = findImpContactsUsingDegree(edgesList, numIndex)\n",
      "print(len(impContactsWeightMapPower))\n",
      "print(len(impContactsWeightMapDegree))\n",
      "generateRankCompData(impContactsWeightMapPower, impContactsWeightMapDegree, alpha, tolerance)\n",
      "    \n"
     ],
     "language": "python",
     "metadata": {},
     "outputs": [
      {
       "output_type": "stream",
       "stream": "stdout",
       "text": [
        "('Total Friends', 511)\n",
        "('Tolerance in iteration ', 27, 'for alpha', 0.65, ' and tolerance ', 1e-10)"
       ]
      },
      {
       "output_type": "stream",
       "stream": "stdout",
       "text": [
        "\n",
        "511\n",
        "510\n",
        "rankComp65_1e-10.csv\n"
       ]
      }
     ],
     "prompt_number": 3
    },
    {
     "cell_type": "code",
     "collapsed": false,
     "input": [],
     "language": "python",
     "metadata": {},
     "outputs": []
    }
   ],
   "metadata": {}
  }
 ]
}